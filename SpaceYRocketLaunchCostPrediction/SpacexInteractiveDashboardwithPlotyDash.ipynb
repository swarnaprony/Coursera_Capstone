{
 "cells": [
  {
   "cell_type": "code",
   "execution_count": 2,
   "id": "1c815b1d",
   "metadata": {},
   "outputs": [
    {
     "name": "stdout",
     "output_type": "stream",
     "text": [
      "Requirement already satisfied: pandas in /home/mirmdasif/anaconda3/lib/python3.8/site-packages (1.2.4)\n",
      "Requirement already satisfied: dash in /home/mirmdasif/anaconda3/lib/python3.8/site-packages (1.20.0)\n",
      "Requirement already satisfied: dash-renderer==1.9.1 in /home/mirmdasif/anaconda3/lib/python3.8/site-packages (from dash) (1.9.1)\n",
      "Requirement already satisfied: dash-core-components==1.16.0 in /home/mirmdasif/anaconda3/lib/python3.8/site-packages (from dash) (1.16.0)\n",
      "Requirement already satisfied: flask-compress in /home/mirmdasif/anaconda3/lib/python3.8/site-packages (from dash) (1.10.1)\n",
      "Requirement already satisfied: plotly in /home/mirmdasif/anaconda3/lib/python3.8/site-packages (from dash) (5.0.0)\n",
      "Requirement already satisfied: dash-html-components==1.1.3 in /home/mirmdasif/anaconda3/lib/python3.8/site-packages (from dash) (1.1.3)\n",
      "Requirement already satisfied: dash-table==4.11.3 in /home/mirmdasif/anaconda3/lib/python3.8/site-packages (from dash) (4.11.3)\n",
      "Requirement already satisfied: Flask>=1.0.4 in /home/mirmdasif/anaconda3/lib/python3.8/site-packages (from dash) (1.1.2)\n",
      "Requirement already satisfied: future in /home/mirmdasif/anaconda3/lib/python3.8/site-packages (from dash) (0.18.2)\n",
      "Requirement already satisfied: click>=5.1 in /home/mirmdasif/anaconda3/lib/python3.8/site-packages (from Flask>=1.0.4->dash) (7.1.2)\n",
      "Requirement already satisfied: Werkzeug>=0.15 in /home/mirmdasif/anaconda3/lib/python3.8/site-packages (from Flask>=1.0.4->dash) (1.0.1)\n",
      "Requirement already satisfied: Jinja2>=2.10.1 in /home/mirmdasif/anaconda3/lib/python3.8/site-packages (from Flask>=1.0.4->dash) (2.11.3)\n",
      "Requirement already satisfied: itsdangerous>=0.24 in /home/mirmdasif/anaconda3/lib/python3.8/site-packages (from Flask>=1.0.4->dash) (1.1.0)\n",
      "Requirement already satisfied: MarkupSafe>=0.23 in /home/mirmdasif/anaconda3/lib/python3.8/site-packages (from Jinja2>=2.10.1->Flask>=1.0.4->dash) (1.1.1)\n",
      "Requirement already satisfied: python-dateutil>=2.7.3 in /home/mirmdasif/anaconda3/lib/python3.8/site-packages (from pandas) (2.8.1)\n",
      "Requirement already satisfied: pytz>=2017.3 in /home/mirmdasif/anaconda3/lib/python3.8/site-packages (from pandas) (2021.1)\n",
      "Requirement already satisfied: numpy>=1.16.5 in /home/mirmdasif/anaconda3/lib/python3.8/site-packages (from pandas) (1.20.1)\n",
      "Requirement already satisfied: six>=1.5 in /home/mirmdasif/anaconda3/lib/python3.8/site-packages (from python-dateutil>=2.7.3->pandas) (1.15.0)\n",
      "Requirement already satisfied: brotli in /home/mirmdasif/anaconda3/lib/python3.8/site-packages (from flask-compress->dash) (1.0.9)\n",
      "Requirement already satisfied: tenacity>=6.2.0 in /home/mirmdasif/anaconda3/lib/python3.8/site-packages (from plotly->dash) (7.0.0)\n"
     ]
    }
   ],
   "source": [
    "!pip3 install pandas dash"
   ]
  },
  {
   "cell_type": "code",
   "execution_count": 4,
   "id": "4d0b0162",
   "metadata": {},
   "outputs": [
    {
     "name": "stdout",
     "output_type": "stream",
     "text": [
      "--2021-11-11 16:58:14--  https://cf-courses-data.s3.us.cloud-object-storage.appdomain.cloud/IBM-DS0321EN-SkillsNetwork/datasets/spacex_launch_dash.csv\n",
      "Resolving cf-courses-data.s3.us.cloud-object-storage.appdomain.cloud (cf-courses-data.s3.us.cloud-object-storage.appdomain.cloud)... 169.63.118.104\n",
      "Connecting to cf-courses-data.s3.us.cloud-object-storage.appdomain.cloud (cf-courses-data.s3.us.cloud-object-storage.appdomain.cloud)|169.63.118.104|:443... connected.\n",
      "HTTP request sent, awaiting response... 200 OK\n",
      "Length: 3033 (3.0K) [text/csv]\n",
      "Saving to: ‘spacex_launch_dash.csv’\n",
      "\n",
      "spacex_launch_dash. 100%[===================>]   2.96K  --.-KB/s    in 0s      \n",
      "\n",
      "2021-11-11 16:58:15 (48.9 MB/s) - ‘spacex_launch_dash.csv’ saved [3033/3033]\n",
      "\n"
     ]
    }
   ],
   "source": [
    "!wget \"https://cf-courses-data.s3.us.cloud-object-storage.appdomain.cloud/IBM-DS0321EN-SkillsNetwork/datasets/spacex_launch_dash.csv\""
   ]
  },
  {
   "cell_type": "code",
   "execution_count": 5,
   "id": "8f33b0fe",
   "metadata": {},
   "outputs": [
    {
     "name": "stdout",
     "output_type": "stream",
     "text": [
      "--2021-11-11 16:59:56--  https://cf-courses-data.s3.us.cloud-object-storage.appdomain.cloud/IBM-DS0321EN-SkillsNetwork/labs/module_3/spacex_dash_app.py\n",
      "Resolving cf-courses-data.s3.us.cloud-object-storage.appdomain.cloud (cf-courses-data.s3.us.cloud-object-storage.appdomain.cloud)... 169.63.118.104\n",
      "Connecting to cf-courses-data.s3.us.cloud-object-storage.appdomain.cloud (cf-courses-data.s3.us.cloud-object-storage.appdomain.cloud)|169.63.118.104|:443... connected.\n",
      "HTTP request sent, awaiting response... 200 OK\n",
      "Length: 2110 (2.1K) [text/x-python]\n",
      "Saving to: ‘spacex_dash_app.py’\n",
      "\n",
      "spacex_dash_app.py  100%[===================>]   2.06K  --.-KB/s    in 0s      \n",
      "\n",
      "2021-11-11 16:59:57 (36.8 MB/s) - ‘spacex_dash_app.py’ saved [2110/2110]\n",
      "\n"
     ]
    }
   ],
   "source": [
    "!wget \"https://cf-courses-data.s3.us.cloud-object-storage.appdomain.cloud/IBM-DS0321EN-SkillsNetwork/labs/module_3/spacex_dash_app.py\""
   ]
  },
  {
   "cell_type": "code",
   "execution_count": 6,
   "id": "fa5c3fe0",
   "metadata": {},
   "outputs": [
    {
     "name": "stdout",
     "output_type": "stream",
     "text": [
      "Traceback (most recent call last):\r\n",
      "  File \"spacex_dash_app.py\", line 3, in <module>\r\n",
      "    import dash\r\n",
      "  File \"/home/mirmdasif/anaconda3/lib/python3.8/site-packages/dash/__init__.py\", line 5, in <module>\r\n",
      "    from .dash import Dash, no_update  # noqa: F401,E402\r\n",
      "  File \"/home/mirmdasif/anaconda3/lib/python3.8/site-packages/dash/dash.py\", line 21, in <module>\r\n",
      "    from flask_compress import Compress\r\n",
      "  File \"/home/mirmdasif/anaconda3/lib/python3.8/site-packages/flask_compress/__init__.py\", line 1, in <module>\r\n",
      "    from .flask_compress import Compress\r\n",
      "  File \"/home/mirmdasif/anaconda3/lib/python3.8/site-packages/flask_compress/flask_compress.py\", line 14, in <module>\r\n",
      "    import brotli\r\n",
      "  File \"/home/mirmdasif/anaconda3/lib/python3.8/site-packages/brotli/__init__.py\", line 3, in <module>\r\n",
      "    from .brotli import (\r\n",
      "  File \"/home/mirmdasif/anaconda3/lib/python3.8/site-packages/brotli/brotli.py\", line 5, in <module>\r\n",
      "    from ._brotli import ffi, lib\r\n",
      "ImportError: libffi.so.7: cannot open shared object file: No such file or directory\r\n"
     ]
    }
   ],
   "source": [
    "!python3 spacex_dash_app.py"
   ]
  },
  {
   "cell_type": "code",
   "execution_count": null,
   "id": "055a0f30",
   "metadata": {},
   "outputs": [],
   "source": []
  }
 ],
 "metadata": {
  "kernelspec": {
   "display_name": "Python 3",
   "language": "python",
   "name": "python3"
  },
  "language_info": {
   "codemirror_mode": {
    "name": "ipython",
    "version": 3
   },
   "file_extension": ".py",
   "mimetype": "text/x-python",
   "name": "python",
   "nbconvert_exporter": "python",
   "pygments_lexer": "ipython3",
   "version": "3.8.2"
  }
 },
 "nbformat": 4,
 "nbformat_minor": 5
}
